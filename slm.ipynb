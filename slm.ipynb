{
 "cells": [
  {
   "cell_type": "code",
   "execution_count": 2,
   "id": "e356a81d",
   "metadata": {},
   "outputs": [
    {
     "name": "stderr",
     "output_type": "stream",
     "text": [
      "d:\\projects\\stage_gpt\\venv\\Lib\\site-packages\\tqdm\\auto.py:21: TqdmWarning: IProgress not found. Please update jupyter and ipywidgets. See https://ipywidgets.readthedocs.io/en/stable/user_install.html\n",
      "  from .autonotebook import tqdm as notebook_tqdm\n"
     ]
    }
   ],
   "source": [
    "from datasets import load_from_disk\n",
    "import torch\n",
    "import tiktoken\n",
    "import numpy as np\n",
    "import matplotlib.pyplot as plt\n",
    "import os\n",
    "from tqdm.auto import tqdm"
   ]
  },
  {
   "cell_type": "markdown",
   "id": "38a9e5c9",
   "metadata": {},
   "source": [
    "# Dataset Download and Exploration"
   ]
  },
  {
   "cell_type": "code",
   "execution_count": 3,
   "id": "bb05f696",
   "metadata": {},
   "outputs": [
    {
     "data": {
      "text/plain": [
       "'\\nfrom datasets import load_dataset\\n\\nds = datasets.load_dataset(\"roneneldan/TinyStories\")\\nds.save_to_disk(\\'datasets_local/tinystories\\')\\n'"
      ]
     },
     "execution_count": 3,
     "metadata": {},
     "output_type": "execute_result"
    }
   ],
   "source": [
    "# Download and save dataset\n",
    "\"\"\"\n",
    "from datasets import load_dataset\n",
    "\n",
    "ds = datasets.load_dataset(\"roneneldan/TinyStories\")\n",
    "ds.save_to_disk('datasets_local/tinystories')\n",
    "\"\"\""
   ]
  },
  {
   "cell_type": "code",
   "execution_count": 4,
   "id": "88f2dc53",
   "metadata": {},
   "outputs": [],
   "source": [
    "ds = load_from_disk(\"datasets_local/tinystories\")"
   ]
  },
  {
   "cell_type": "code",
   "execution_count": 5,
   "id": "2d26ec37",
   "metadata": {},
   "outputs": [],
   "source": [
    "tokenizer = tiktoken.get_encoding('gpt2')"
   ]
  },
  {
   "cell_type": "code",
   "execution_count": 6,
   "id": "3ac1a634",
   "metadata": {},
   "outputs": [],
   "source": [
    "def print_sample(index, split='train', display=True, get_text=False):\n",
    "    sample_text = ds[split][index]['text']\n",
    "    encoded_sample = tokenizer.encode(ds['train'][0]['text'], allowed_special={'<|endoftext|>'})\n",
    "\n",
    "    if display:\n",
    "        print(\"=\" * 45)\n",
    "        print(f\"Number of words: {len(sample_text.split(' '))}\")\n",
    "        print(f\"Number of tokens: {len(encoded_sample)}\")\n",
    "        print(\"=\" * 45)    \n",
    "        print(sample_text)\n",
    "        \n",
    "    if get_text:\n",
    "        return (sample_text, encoded_sample)\n",
    "    else:\n",
    "        return (None, None)"
   ]
  },
  {
   "cell_type": "code",
   "execution_count": 7,
   "id": "b1149aeb",
   "metadata": {},
   "outputs": [
    {
     "name": "stdout",
     "output_type": "stream",
     "text": [
      "=============================================\n",
      "Number of words: 135\n",
      "Number of tokens: 162\n",
      "=============================================\n",
      "Once upon a time, there was a family who loved to go camping. They had a big tent that they would put up in the woods. The mom and dad would work together to make sure the tent was set up just right. \n",
      "\n",
      "One day, they met a very nice man who was very generous. He gave them some food to eat and even helped them fix their tent when it got a hole in it. The family was very happy to have met such a kind man.\n",
      "\n",
      "After they finished camping, the family went home and told all their friends about the generous man they met. They also talked about how they had to work hard to put up their tent, but it was worth it because they had so much fun camping. The end.\n"
     ]
    },
    {
     "data": {
      "text/plain": [
       "(None, None)"
      ]
     },
     "execution_count": 7,
     "metadata": {},
     "output_type": "execute_result"
    }
   ],
   "source": [
    "print_sample(45, split='validation')"
   ]
  },
  {
   "cell_type": "code",
   "execution_count": 8,
   "id": "e97d2bdf",
   "metadata": {},
   "outputs": [
    {
     "name": "stdout",
     "output_type": "stream",
     "text": [
      "=============================================\n",
      "Number of words: 197\n",
      "Number of tokens: 162\n",
      "=============================================\n",
      "Once upon a time, there was a zipping sound in the quiet room. It sounded like someone was playing with something. Two friends, Mel and June, were curious and excited to find out what was making the noise. \n",
      "\n",
      "\"What's that noise?\" asked June.\n",
      "\"I don't know,\" said Mel, \"Let's go find out!\"\n",
      "\n",
      "The two went searching around the room until they found the source of the noise: a pin, zipping up and down the wall!\n",
      "\n",
      "\"How unusual,\" said June, \"How does it zip up and down the wall like that?\n",
      "\n",
      "Mel put her finger to her lips and said, \"Shhh, maybe it's magic?\"\n",
      "\n",
      "June's wide eyes lit up as she said, \"That's it! I think we should try to figure out how it works!\"\n",
      "\n",
      "The two friends worked together to try and make the pin zip again. After a few minutes of hard work, the pin began to zip again!\n",
      "\n",
      "\"Woo-hoo!\" cried Mel, \"We did it! How exciting! I think this pin has a magical zipping power!\"\n",
      "\n",
      "June and Mel enjoyed their newfound discovery and magic pin. From that day forward, the two friends would take turns zipping the pin up and down the wall. It was the quietest, most exciting adventure they ever had.\n"
     ]
    },
    {
     "data": {
      "text/plain": [
       "(None, None)"
      ]
     },
     "execution_count": 8,
     "metadata": {},
     "output_type": "execute_result"
    }
   ],
   "source": [
    "print_sample(124, split='train')"
   ]
  },
  {
   "cell_type": "markdown",
   "id": "77e7889a",
   "metadata": {},
   "source": [
    "# Deciding Model Parameters based on the Dataset"
   ]
  },
  {
   "cell_type": "code",
   "execution_count": null,
   "id": "04d26dfd",
   "metadata": {},
   "outputs": [
    {
     "name": "stdout",
     "output_type": "stream",
     "text": [
      "100000\n",
      "200000\n",
      "300000\n",
      "400000\n",
      "500000\n",
      "600000\n",
      "700000\n",
      "800000\n",
      "900000\n",
      "1000000\n",
      "1100000\n",
      "1200000\n",
      "1300000\n",
      "1400000\n",
      "1500000\n",
      "1600000\n",
      "1700000\n",
      "1800000\n",
      "1900000\n",
      "2000000\n",
      "2100000\n"
     ]
    },
    {
     "ename": "IndexError",
     "evalue": "list assignment index out of range",
     "output_type": "error",
     "traceback": [
      "\u001b[31m---------------------------------------------------------------------------\u001b[39m",
      "\u001b[31mIndexError\u001b[39m                                Traceback (most recent call last)",
      "\u001b[36mCell\u001b[39m\u001b[36m \u001b[39m\u001b[32mIn[49]\u001b[39m\u001b[32m, line 12\u001b[39m\n\u001b[32m     10\u001b[39m \u001b[38;5;28;01mif\u001b[39;00m curr_sample % \u001b[32m100000\u001b[39m == \u001b[32m0\u001b[39m:\n\u001b[32m     11\u001b[39m     \u001b[38;5;28mprint\u001b[39m(curr_sample)\n\u001b[32m---> \u001b[39m\u001b[32m12\u001b[39m \u001b[43mtokens\u001b[49m\u001b[43m[\u001b[49m\u001b[43mcurr_sample\u001b[49m\u001b[43m]\u001b[49m = \u001b[38;5;28mlen\u001b[39m(tokenizer.encode(ds[split][i][\u001b[33m'\u001b[39m\u001b[33mtext\u001b[39m\u001b[33m'\u001b[39m]))\n",
      "\u001b[31mIndexError\u001b[39m: list assignment index out of range"
     ]
    }
   ],
   "source": [
    "# 47586\n",
    "# Decide the model parameters\n",
    "\n",
    "total_samples = len(ds['train']) + len(ds['validation'])\n",
    "tokens = [0] * total_samples\n",
    "curr_sample = 0\n",
    "for split in ['train', 'validation']:\n",
    "    for i in range(len(ds[split])):\n",
    "        if curr_sample % 100000 == 0:\n",
    "            print(curr_sample)\n",
    "        tokens[curr_sample] = len(tokenizer.encode(ds[split][i]['text']))\n",
    "        curr_sample += 1"
   ]
  },
  {
   "cell_type": "code",
   "execution_count": 59,
   "id": "8a83760a",
   "metadata": {},
   "outputs": [
    {
     "name": "stdout",
     "output_type": "stream",
     "text": [
      "Total Number of Tokens:  476616185\n",
      "Mean Length: 222.5401233314143\n",
      "Median:  191.0\n",
      "Percentiles: [   0.  143.  158.  169.  180.  191.  205.  222.  252.  355. 1269.]\n"
     ]
    },
    {
     "data": {
      "image/png": "[encoded data removed]",
      "text/plain": [
       "<Figure size 640x480 with 1 Axes>"
      ]
     },
     "metadata": {},
     "output_type": "display_data"
    }
   ],
   "source": [
    "import matplotlib.pyplot as plt\n",
    "import numpy as np\n",
    "\n",
    "print(\"Total Number of Tokens: \", np.sum(tokens))\n",
    "print(\"Mean Length:\", np.mean(tokens))\n",
    "print(\"Median: \", np.median(tokens))\n",
    "print(\"Percentiles:\", np.percentile(tokens, q = np.arange(0, 101, 10)))\n",
    "\n",
    "_ = plt.hist(tokens)\n"
   ]
  },
  {
   "cell_type": "markdown",
   "id": "71904184",
   "metadata": {},
   "source": [
    "Therefore, with context_length of 256, we have the whole story as the context for the next word prediction for >80% of the stories.\n",
    "But, how many a parameters would that be? - It is 44.8M with this config - \n",
    "\n",
    "{'num_layers': 6,\n",
    "  'num_heads': 8,\n",
    "  'd_model': 512,\n",
    "  'd_ff': 2048,\n",
    "  'dropout_rate': 0.1,\n",
    "  'context_length': 512,\n",
    "  'vocab_size': 50257,\n",
    "  'embedding_dim': 512},\n",
    " 'context_length': 256"
   ]
  },
  {
   "cell_type": "markdown",
   "id": "27e307be",
   "metadata": {},
   "source": [
    "# Train Loop"
   ]
  },
  {
   "cell_type": "code",
   "execution_count": 9,
   "id": "9b04a376",
   "metadata": {},
   "outputs": [
    {
     "name": "stdout",
     "output_type": "stream",
     "text": [
      "Config: {'num_layers': 8, 'num_heads': 4, 'd_model': 256, 'd_ff': 1024, 'dropout_rate': 0.1, 'context_length': 256, 'vocab_size': 50257, 'embedding_dim': 256}\n",
      "#Params with the above config: 19.300177 M parameters\n"
     ]
    }
   ],
   "source": [
    "import yaml\n",
    "from transformer.transformer import GPTModel\n",
    "\n",
    "with open(\"transformer/sample_config.yaml\", \"r\") as f:\n",
    "    config = yaml.safe_load(f)['config']\n",
    "\n",
    "config.update({\n",
    "    'context_length': 256,\n",
    "    'd_model': 256,\n",
    "    'embedding_dim': 256,\n",
    "    'num_layers': 8,\n",
    "    'num_heads': 4,\n",
    "    'd_ff': 1024\n",
    "})\n",
    "\n",
    "print(\"Config:\", config)\n",
    "\n",
    "model = GPTModel(config)\n",
    "print(\"#Params with the above config:\", model.get_numel() / 1e6, \"M parameters\")"
   ]
  },
  {
   "cell_type": "markdown",
   "id": "2da8a94b",
   "metadata": {},
   "source": [
    "Out of this 19.3M parameters, \n",
    "\n",
    "- Token Embedding accounts for 50527 * 256 = 12.9M parameters. \n",
    "- The rest of the layers are 6.4M parameters.\n",
    "\n",
    "This seems to be expected and explains the fixed cost of representation of words."
   ]
  },
  {
   "cell_type": "code",
   "execution_count": 15,
   "id": "e315f6eb",
   "metadata": {},
   "outputs": [],
   "source": [
    "# Save the tokenized data into mmap\n",
    "def process(sample):\n",
    "    ids = tokenizer.encode_ordinary(sample['text'])\n",
    "    return {'tokens': ids, 'len': len(ids)}\n",
    "\n",
    "dataset_folder = \"datasets_local/\"\n",
    "tokenized_ds = None\n",
    "if not os.path.exists(os.path.join(dataset_folder, \"train.bin\")):\n",
    "    tokenized_ds = ds.map(\n",
    "        process,\n",
    "        remove_columns=['text'],\n",
    "        num_proc=8,\n",
    "        desc=\"Tokenizing data\"\n",
    "    )\n",
    "\n",
    "    for split, dset in tokenized_ds.items():\n",
    "        total_len = np.sum(dset['len'])\n",
    "        filename = os.path.join(dataset_folder, f\"{split}.bin\")\n",
    "        fp = np.memmap(filename, dtype=np.uint16, mode = \"w+\", shape=(total_len,))\n",
    "        batches = 1024\n",
    "\n",
    "        idx = 0\n",
    "        for i in tqdm(range(batches), desc=\"Saving to disk\"):\n",
    "            batch = dset.shard(num_shards=1024, index=i, contiguous=True).with_format('numpy')\n",
    "            batch_arr = np.concatenate(batch['tokens'])\n",
    "            fp[idx: idx + len(batch_arr)] = batch_arr\n",
    "            idx += len(batch_arr)\n",
    "            fp.flush() # Save each batch to reduce memory usage"
   ]
  },
  {
   "cell_type": "code",
   "execution_count": 16,
   "id": "11abc728",
   "metadata": {},
   "outputs": [],
   "source": [
    "device =  \"cuda\" if torch.cuda.is_available() else \"cpu\"\n",
    "device_type = 'cuda' if 'cuda' in device else 'cpu' # for later use in torch.autocast\n",
    "# note: float16 data type will automatically use a GradScaler\n",
    "\n",
    "# How to use autocast https://wandb.ai/wandb_fc/tips/reports/How-To-Use-Autocast-in-PyTorch--VmlldzoyMTk4NTky\n",
    "dtype = 'bfloat16' if torch.cuda.is_available() and torch.cuda.is_bf16_supported() else 'float16' # 'float32', 'bfloat16', or 'float16', the latter will auto implement a GradScaler\n",
    "ptdtype = {'float32': torch.float32, 'bfloat16': torch.bfloat16, 'float16': torch.float16}[dtype]\n",
    "\n",
    "ctx = nullcontext() if device_type == 'cpu' else torch.amp.autocast(device_type=device_type, dtype=ptdtype)"
   ]
  },
  {
   "cell_type": "code",
   "execution_count": 17,
   "id": "9ca619aa",
   "metadata": {},
   "outputs": [],
   "source": [
    "def get_batch(context_size, batch_size, split='train', device='cpu'):\n",
    "    data = np.memmap(os.path.join(dataset_folder, f\"{split}.bin\"), dtype=np.uint16, mode='r')\n",
    "    ix = np.random.randint(low=0, high=len(data) - context_size - 1, size=batch_size)\n",
    "    x = torch.vstack([torch.tensor(data[i:i+context_size]) for i in ix])\n",
    "    y = torch.vstack([torch.tensor(data[i+1:i+1+context_size]) for i in ix])\n",
    "    if device == 'cuda':\n",
    "        x, y = x.pin_memory().to(device, non_blocking=True), y.pin_memory().to(device, non_blocking=True)\n",
    "    return x.long(), y.long()"
   ]
  },
  {
   "cell_type": "code",
   "execution_count": null,
   "id": "3d29a1b9",
   "metadata": {},
   "outputs": [],
   "source": [
    "def estimate_loss(model, eval_iters, context_size, batch_size=8, device='cpu'):\n",
    "    out = {}\n",
    "    model.eval()\n",
    "    with torch.inference_mode():\n",
    "        for split in ['train', 'validation']:\n",
    "            losses = torch.zeros(eval_iters)\n",
    "            for i in range(eval_iters):\n",
    "                x, y = get_batch(context_size, batch_size, split=split, device=device)\n",
    "                # with ctx:\n",
    "                _, loss = model(x, y)\n",
    "                losses[i] = loss.item()\n",
    "            out[split] = losses.mean()\n",
    "    model.train()\n",
    "    return out"
   ]
  },
  {
   "cell_type": "code",
   "execution_count": null,
   "id": "70363243",
   "metadata": {},
   "outputs": [],
   "source": [
    "log_freq = 100\n",
    "max_iters = 1000\n",
    "eval_iters = 100\n",
    "gradient_accumulation_steps = 32\n",
    "learning_rate = 1e-4\n",
    "min_lr = 5e-5\n",
    "warmup_iters = 1000\n",
    "batch_size = 8"
   ]
  },
  {
   "cell_type": "code",
   "execution_count": 31,
   "id": "dc3b4a20",
   "metadata": {},
   "outputs": [],
   "source": [
    "from torch.optim.lr_scheduler import LinearLR,SequentialLR, CosineAnnealingLR"
   ]
  },
  {
   "cell_type": "code",
   "execution_count": 32,
   "id": "6853fd3d",
   "metadata": {},
   "outputs": [],
   "source": [
    "optimizer = torch.optim.AdamW(model.parameters(), lr=learning_rate, betas=(0.9, 0.95), eps=1e-8, weight_decay=0.1)\n",
    "\n",
    "scheduler_warmup = LinearLR(optimizer, total_iters=warmup_iters)\n",
    "scheduler_decay = CosineAnnealingLR(optimizer, T_max=max_iters - warmup_iters, eta_min=min_lr)\n",
    "scheduler = SequentialLR(optimizer, [scheduler_warmup, scheduler_decay], milestones=[warmup_iters])"
   ]
  },
  {
   "cell_type": "code",
   "execution_count": 33,
   "id": "502a421a",
   "metadata": {},
   "outputs": [],
   "source": [
    "best_val_loss = torch.inf\n",
    "train_losses = []\n",
    "val_losses = []\n",
    "best_model_path = \"best_slm_model.pt\"\n",
    "\n",
    "def train(model, optimizer, scheduler, config, device):\n",
    "    best_val_loss = torch.inf\n",
    "    context_size = config['context_length']\n",
    "    for epoch in tqdm(range(max_iters), desc=\"Epochs\"):\n",
    "        if ((epoch + 1) % log_freq) == 0:\n",
    "            curr_loss = estimate_loss(model, eval_iters, context_size, batch_size, device=device)\n",
    "            train_losses.append(curr_loss['train'])\n",
    "            val_losses.append(curr_loss['validation'])\n",
    "            print(f\"Epoch {epoch:3d} - Train Loss {curr_loss['train']:.4f}, Val Loss {curr_loss['validation']:.4f}\")\n",
    "\n",
    "            if curr_loss['validation'] < best_val_loss:\n",
    "                best_val_loss = curr_loss['validation']\n",
    "                torch.save(model.state_dict(), best_model_path)\n",
    "\n",
    "        x, y = get_batch(context_size, batch_size, split='train', device=device)\n",
    "        logits, loss = model(x, y)\n",
    "        loss = loss / gradient_accumulation_steps\n",
    "        loss.backward()\n",
    "\n",
    "        if ((epoch + 1) % gradient_accumulation_steps == 0) or (epoch + 1 == max_iters):\n",
    "            optimizer.step()\n",
    "            optimizer.zero_grad()\n",
    "            scheduler.step()\n"
   ]
  },
  {
   "cell_type": "code",
   "execution_count": 34,
   "id": "3e0b728c",
   "metadata": {},
   "outputs": [
    {
     "name": "stderr",
     "output_type": "stream",
     "text": [
      "Epochs:  10%|▉         | 99/1000 [00:06<00:53, 16.92it/s]"
     ]
    },
    {
     "name": "stdout",
     "output_type": "stream",
     "text": [
      "Epoch  99 - Train Loss 147.1870, Val Loss 147.2832\n"
     ]
    },
    {
     "name": "stderr",
     "output_type": "stream",
     "text": [
      "Epochs:  20%|█▉        | 199/1000 [00:17<00:46, 17.17it/s]"
     ]
    },
    {
     "name": "stdout",
     "output_type": "stream",
     "text": [
      "Epoch 199 - Train Loss 138.1514, Val Loss 138.3302\n"
     ]
    },
    {
     "name": "stderr",
     "output_type": "stream",
     "text": [
      "Epochs:  30%|██▉       | 298/1000 [00:30<00:41, 16.74it/s]"
     ]
    },
    {
     "name": "stdout",
     "output_type": "stream",
     "text": [
      "Epoch 299 - Train Loss 127.6287, Val Loss 127.7110\n"
     ]
    },
    {
     "name": "stderr",
     "output_type": "stream",
     "text": [
      "Epochs:  40%|████      | 400/1000 [00:47<08:26,  1.18it/s]"
     ]
    },
    {
     "name": "stdout",
     "output_type": "stream",
     "text": [
      "Epoch 399 - Train Loss 115.9785, Val Loss 116.0830\n"
     ]
    },
    {
     "name": "stderr",
     "output_type": "stream",
     "text": [
      "Epochs:  50%|████▉     | 499/1000 [00:53<00:29, 16.73it/s]"
     ]
    },
    {
     "name": "stdout",
     "output_type": "stream",
     "text": [
      "Epoch 499 - Train Loss 104.0334, Val Loss 104.1917\n"
     ]
    },
    {
     "name": "stderr",
     "output_type": "stream",
     "text": [
      "Epochs:  60%|█████▉    | 599/1000 [01:04<00:24, 16.06it/s]"
     ]
    },
    {
     "name": "stdout",
     "output_type": "stream",
     "text": [
      "Epoch 599 - Train Loss 92.6496, Val Loss 92.8690\n"
     ]
    },
    {
     "name": "stderr",
     "output_type": "stream",
     "text": [
      "Epochs:  70%|██████▉   | 699/1000 [01:15<00:18, 16.40it/s]"
     ]
    },
    {
     "name": "stdout",
     "output_type": "stream",
     "text": [
      "Epoch 699 - Train Loss 82.6958, Val Loss 82.6086\n"
     ]
    },
    {
     "name": "stderr",
     "output_type": "stream",
     "text": [
      "Epochs:  80%|███████▉  | 799/1000 [01:27<00:12, 16.08it/s]"
     ]
    },
    {
     "name": "stdout",
     "output_type": "stream",
     "text": [
      "Epoch 799 - Train Loss 74.3929, Val Loss 74.4179\n"
     ]
    },
    {
     "name": "stderr",
     "output_type": "stream",
     "text": [
      "Epochs:  90%|████████▉ | 898/1000 [01:38<00:06, 16.61it/s]"
     ]
    },
    {
     "name": "stdout",
     "output_type": "stream",
     "text": [
      "Epoch 899 - Train Loss 66.5160, Val Loss 66.5801\n"
     ]
    },
    {
     "name": "stderr",
     "output_type": "stream",
     "text": [
      "Epochs: 100%|█████████▉| 998/1000 [01:49<00:00, 16.61it/s]"
     ]
    },
    {
     "name": "stdout",
     "output_type": "stream",
     "text": [
      "Epoch 999 - Train Loss 62.3631, Val Loss 62.4472\n"
     ]
    },
    {
     "name": "stderr",
     "output_type": "stream",
     "text": [
      "Epochs: 100%|██████████| 1000/1000 [01:54<00:00,  8.70it/s]\n"
     ]
    }
   ],
   "source": [
    "model = model.to(device)\n",
    "train(model, optimizer, scheduler, config, device)"
   ]
  },
  {
   "cell_type": "code",
   "execution_count": 16,
   "id": "830c92c7",
   "metadata": {},
   "outputs": [
    {
     "data": {
      "text/plain": [
       "<All keys matched successfully>"
      ]
     },
     "execution_count": 16,
     "metadata": {},
     "output_type": "execute_result"
    }
   ],
   "source": [
    "#Load the model\n",
    "model = GPTModel(config)  # re-create the model with same config\n",
    "best_model_params_path = \"best_slm_model.pt\"\n",
    "model.load_state_dict(torch.load(best_model_params_path, map_location=torch.device(device))) # load best model states"
   ]
  },
  {
   "cell_type": "code",
   "execution_count": 35,
   "id": "8d81405e",
   "metadata": {},
   "outputs": [
    {
     "name": "stdout",
     "output_type": "stream",
     "text": [
      "Once upon a time there was a pumpkin.lorelorelorelorelorelorelorelorelorelorelorelorelorelorelorelore\n"
     ]
    }
   ],
   "source": [
    "sentence = \"Once upon a time there was a pumpkin.\"\n",
    "context = (torch.tensor(tokenizer.encode_ordinary(sentence)).unsqueeze(dim = 0)).to(device)\n",
    "y = model.generate(context, 16)\n",
    "print(tokenizer.decode(y.squeeze().tolist()))"
   ]
  },
  {
   "cell_type": "code",
   "execution_count": null,
   "id": "b219061d",
   "metadata": {},
   "outputs": [],
   "source": []
  }
 ],
 "metadata": {
  "kernelspec": {
   "display_name": "venv",
   "language": "python",
   "name": "python3"
  },
  "language_info": {
   "codemirror_mode": {
    "name": "ipython",
    "version": 3
   },
   "file_extension": ".py",
   "mimetype": "text/x-python",
   "name": "python",
   "nbconvert_exporter": "python",
   "pygments_lexer": "ipython3",
   "version": "3.11.5"
  }
 },
 "nbformat": 4,
 "nbformat_minor": 5
}
