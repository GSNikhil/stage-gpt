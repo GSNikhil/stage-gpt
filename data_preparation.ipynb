{
 "cells": [
  {
   "cell_type": "code",
   "execution_count": 1,
   "id": "534adc19",
   "metadata": {},
   "outputs": [],
   "source": [
    "import requests\n",
    "import json\n",
    "from bs4 import BeautifulSoup\n",
    "import re\n",
    "from os import path, makedirs"
   ]
  },
  {
   "cell_type": "code",
   "execution_count": 2,
   "id": "e79dbf26",
   "metadata": {},
   "outputs": [],
   "source": [
    "baseurl = \"https://edersoncorbari.github.io/friends-scripts/season/\"\n",
    "seasons = range(1, 11)"
   ]
  },
  {
   "cell_type": "code",
   "execution_count": 62,
   "id": "1f1cceb9",
   "metadata": {},
   "outputs": [],
   "source": [
    "def fetch_script(baseurl, season, episode, check_combine=False, unprocessed=True) -> tuple[list[str], int]:\n",
    "    if check_combine:\n",
    "        url = f\"{baseurl}{season:02d}{episode:02d}-{season:02d}{episode+1:02d}.html\"\n",
    "    else:\n",
    "        url = f\"{baseurl}{season:02d}{episode:02d}.html\"\n",
    "\n",
    "    response = requests.get(url)\n",
    "    if response.status_code != requests.codes.ok:\n",
    "        print(f\"Failed to fetch {url}\")\n",
    "        return ([], 1)\n",
    "    \n",
    "    soup = BeautifulSoup(response.text, 'html.parser')\n",
    "    html_elements = soup.body.find_all('p')\n",
    "    \n",
    "    if unprocessed:\n",
    "        unchanged_lines = [ele.get_text().strip() for ele in html_elements if ele.get_text()]\n",
    "        return (unchanged_lines, 0)\n",
    "    \n",
    "    # Basic preprocessing to clean up the text\n",
    "    lines = [ele.get_text().strip().replace('\\n', ' ').replace('\\r', ' ') for ele in html_elements if ele.get_text()]\n",
    "    lines = [re.sub(r'\\s+', ' ', re.sub(r'\\([^)]*\\)', '', line)).strip() + \"\\n\" for line in lines if len(line) < 2000]\n",
    "    return (lines, 0)\n",
    "    "
   ]
  },
  {
   "cell_type": "code",
   "execution_count": 63,
   "id": "403f4b49",
   "metadata": {},
   "outputs": [],
   "source": [
    "def fetch_all_scripts(baseurl: str, seasons: range, output_dir: str) -> None:\n",
    "    makedirs(output_dir, exist_ok=True)\n",
    "    offset = 0\n",
    "\n",
    "    for season in seasons:\n",
    "        print(f\"Fetching scripts for season {season}\")\n",
    "        for episode in range(1, 25): # There are up to 24 episodes per season\n",
    "            print(f\"Episode {episode}\")\n",
    "            episode += offset\n",
    "\n",
    "            # Try normal episode first\n",
    "            lines, status = fetch_script(baseurl, season, episode, check_combine=False)\n",
    "            if status == 1:\n",
    "                # Try combined episode if normal not found\n",
    "                offset += 1\n",
    "                lines, status = fetch_script(baseurl, season, episode, check_combine=True)\n",
    "            if status == 1:\n",
    "                # No script found, likely end of season\n",
    "                break\n",
    "            # Save the script to a file - Lines will not be empty\n",
    "            filename = f\"{output_dir}/s{season:02d}e{episode:02d}.txt\"\n",
    "            with open(filename, 'w', encoding='utf-8') as f:\n",
    "                f.writelines(lines)"
   ]
  },
  {
   "cell_type": "code",
   "execution_count": 64,
   "id": "22e5c476",
   "metadata": {},
   "outputs": [],
   "source": [
    "# This function call will fetch all scripts and save them in the \"scripts\" directory\n",
    "# fetch_all_scripts(baseurl, seasons, \"scripts\")"
   ]
  },
  {
   "cell_type": "code",
   "execution_count": 91,
   "id": "8b750720",
   "metadata": {},
   "outputs": [],
   "source": [
    "def post_process_scripts(seasons: range, input_dir: str, output_dir: str) -> None:\n",
    "    assert path.exists(input_dir), f\"Input directory {input_dir} does not exist.\"\n",
    "    makedirs(output_dir, exist_ok=True)\n",
    "\n",
    "    scene_number = 0\n",
    "    last_three_lines = []\n",
    "    main_characters = ['Ross', 'Rachel', 'Chandler', 'Monica', 'Joey', 'Phoebe', 'All']\n",
    "    processed_data = []\n",
    "\n",
    "    for season in seasons:\n",
    "        print(f\"Post-processing scripts for season {season}\")\n",
    "        for episode in range(1, 25):\n",
    "            episode_started = False\n",
    "            filename = f\"{input_dir}/s{season:02d}e{episode:02d}.txt\"\n",
    "            if not path.exists(filename):\n",
    "                continue\n",
    "            \n",
    "            with open(filename, 'r', encoding='utf-8') as f:\n",
    "                lines = f.readlines()\n",
    "\n",
    "            for i, line in enumerate(lines):\n",
    "                line = line.strip()\n",
    "                if (line == ' ' or line == ''):\n",
    "                    continue  # Skip empty lines\n",
    "                \n",
    "                if line.startswith('[Scene:') or line.startswith('[scene:'):\n",
    "                    if not episode_started:\n",
    "                        episode_started = True\n",
    "                        continue\n",
    "\n",
    "                    scene_number += 1\n",
    "                    last_three_lines = []\n",
    "                    continue\n",
    "\n",
    "                if not episode_started:\n",
    "                    continue\n",
    "\n",
    "                character = set(line.split(':')[0].split(',')).union(set(line.split(':')[0].split('and')))\n",
    "\n",
    "                # Remove lines which are not dialogue lines\n",
    "                if len(character) == 0:\n",
    "                    continue\n",
    "                \n",
    "                # If the current line is not by one of the main characters, skip it\n",
    "                if character.isdisjoint(set(main_characters)):\n",
    "                    continue\n",
    "\n",
    "                for char in character:\n",
    "                    if char not in main_characters[:-1]:\n",
    "                        continue\n",
    "                    \n",
    "                    curr_sample = {\n",
    "                        'scene_id': f's{season:02d}e{episode:02d}sc{scene_number:02d}',\n",
    "                        'lines': last_three_lines,\n",
    "                        'next_speaker': char,\n",
    "                        'next_line': line.split(':')[1] if ':' in line else line,\n",
    "                    }\n",
    "                    processed_data.append(curr_sample)\n",
    "\n",
    "                # Hopefully, only dialogure is left now\n",
    "                last_three_lines = last_three_lines[-2:] + [line]\n",
    "                \n",
    "    # Save the processed data to a JSON file\n",
    "    output_filename = f\"{output_dir}/processed_scripts.json\"\n",
    "    with open(output_filename, 'w', encoding='utf-8') as f:\n",
    "        json.dump(processed_data, f, indent=4, ensure_ascii=False)"
   ]
  },
  {
   "cell_type": "code",
   "execution_count": 92,
   "id": "d16f529f",
   "metadata": {},
   "outputs": [
    {
     "name": "stdout",
     "output_type": "stream",
     "text": [
      "Post-processing scripts for season 1\n",
      "Post-processing scripts for season 2\n",
      "Post-processing scripts for season 3\n",
      "Post-processing scripts for season 4\n",
      "Post-processing scripts for season 5\n",
      "Post-processing scripts for season 6\n",
      "Post-processing scripts for season 7\n",
      "Post-processing scripts for season 8\n",
      "Post-processing scripts for season 9\n",
      "Post-processing scripts for season 10\n"
     ]
    }
   ],
   "source": [
    "post_process_scripts(seasons, \"scripts\", \"processed_scripts\")"
   ]
  },
  {
   "cell_type": "code",
   "execution_count": 21,
   "id": "6778a7ad",
   "metadata": {},
   "outputs": [
    {
     "data": {
      "text/plain": [
       "['Ross']"
      ]
     },
     "execution_count": 21,
     "metadata": {},
     "output_type": "execute_result"
    }
   ],
   "source": [
    "line.split(':')[0].split(',')"
   ]
  }
 ],
 "metadata": {
  "kernelspec": {
   "display_name": "venv",
   "language": "python",
   "name": "python3"
  },
  "language_info": {
   "codemirror_mode": {
    "name": "ipython",
    "version": 3
   },
   "file_extension": ".py",
   "mimetype": "text/x-python",
   "name": "python",
   "nbconvert_exporter": "python",
   "pygments_lexer": "ipython3",
   "version": "3.11.5"
  }
 },
 "nbformat": 4,
 "nbformat_minor": 5
}
